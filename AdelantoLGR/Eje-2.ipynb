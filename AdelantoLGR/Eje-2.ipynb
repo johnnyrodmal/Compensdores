{
 "cells": [
  {
   "cell_type": "markdown",
   "metadata": {},
   "source": [
    "# Control Clasico\n",
    "## Compensador en atraso LGR\n",
    "**Ejemplo 2**  \n",
    "La función de transferencia de lazo abierto de un sistema de control es  \n",
    "\n",
    "$G(s)=\\frac{1}{s(s+1)(s+2)}$  \n",
    "\n",
    "Se desea que el sistema cumpla con las siguientes  \n",
    "$\\zeta=0.6 seg^{-1}$ y la relación de amortiguamiento $w_n=2.5$ rad/seg"
   ]
  },
  {
   "cell_type": "markdown",
   "metadata": {},
   "source": [
    "Sol.  \n",
    "$G(s)=\\frac{1}{s^3+3s^2+2s}$"
   ]
  },
  {
   "cell_type": "code",
   "execution_count": 1,
   "metadata": {},
   "outputs": [
    {
     "data": {
      "text/latex": [
       "$$\\frac{1}{s^3 + 3 s^2 + 2 s}$$"
      ],
      "text/plain": [
       "TransferFunction(array([1]), array([1, 3, 2, 0]))"
      ]
     },
     "execution_count": 1,
     "metadata": {},
     "output_type": "execute_result"
    }
   ],
   "source": [
    "from control import *\n",
    "from numpy import *\n",
    "from matplotlib.pyplot import *\n",
    "\n",
    "g = tf([1], [1, 3, 2,0])\n",
    "g"
   ]
  },
  {
   "cell_type": "code",
   "execution_count": 10,
   "metadata": {},
   "outputs": [
    {
     "data": {
      "text/latex": [
       "$$\\frac{212.5 s^2 + 849.9 s + 849.9}{s^5 + 24 s^4 + 175.2 s^3 + 372.8 s^2 + 220.4 s}$$"
      ],
      "text/plain": [
       "TransferFunction(array([212.475, 849.9  , 849.9  ]), array([  1.  ,  24.  , 175.25, 372.75, 220.4 ,   0.  ]))"
      ]
     },
     "execution_count": 10,
     "metadata": {},
     "output_type": "execute_result"
    }
   ],
   "source": [
    "ggc=tf([212.475,212.475*4,212.475*4],[1,24,175.25,372.75,220.4,0])\n",
    "ggc"
   ]
  },
  {
   "cell_type": "markdown",
   "metadata": {},
   "source": [
    "Sistema en LC"
   ]
  },
  {
   "cell_type": "code",
   "execution_count": 11,
   "metadata": {},
   "outputs": [
    {
     "data": {
      "text/latex": [
       "$$\\frac{212.5 s^2 + 849.9 s + 849.9}{s^4 + 24 s^3 + 387.8 s^2 + 1443 s + 849.4}$$"
      ],
      "text/plain": [
       "TransferFunction(array([212.475, 849.9  , 849.9  ]), array([1.000e+00, 2.400e+01, 3.878e+02, 1.443e+03, 8.494e+02]))"
      ]
     },
     "execution_count": 11,
     "metadata": {},
     "output_type": "execute_result"
    }
   ],
   "source": [
    "GGcc=tf([212.475,212.475*4,212.475*4],[1,24,387.8,1443,849.4])\n",
    "GGcc"
   ]
  },
  {
   "cell_type": "code",
   "execution_count": 12,
   "metadata": {},
   "outputs": [
    {
     "data": {
      "text/plain": [
       "<Figure size 640x480 with 0 Axes>"
      ]
     },
     "metadata": {},
     "output_type": "display_data"
    },
    {
     "data": {
      "image/png": "[encoded data removed]",
      "text/plain": [
       "<Figure size 640x480 with 1 Axes>"
      ]
     },
     "metadata": {},
     "output_type": "display_data"
    }
   ],
   "source": [
    "figure(1),clf\n",
    "t,y=step_response(GGcc)\n",
    "figure(2),clf()\n",
    "plot(t,y)\n",
    "title(\"Sys_openloop\")\n",
    "grid()"
   ]
  },
  {
   "cell_type": "code",
   "execution_count": 2,
   "metadata": {},
   "outputs": [
    {
     "data": {
      "text/plain": [
       "110.25"
      ]
     },
     "execution_count": 2,
     "metadata": {},
     "output_type": "execute_result"
    }
   ],
   "source": [
    "10.5*10.5"
   ]
  },
  {
   "cell_type": "code",
   "execution_count": null,
   "metadata": {},
   "outputs": [],
   "source": []
  }
 ],
 "metadata": {
  "kernelspec": {
   "display_name": "Python 3 (ipykernel)",
   "language": "python",
   "name": "python3"
  },
  "language_info": {
   "codemirror_mode": {
    "name": "ipython",
    "version": 3
   },
   "file_extension": ".py",
   "mimetype": "text/x-python",
   "name": "python",
   "nbconvert_exporter": "python",
   "pygments_lexer": "ipython3",
   "version": "3.9.6"
  },
  "vscode": {
   "interpreter": {
    "hash": "aee8b7b246df8f9039afb4144a1f6fd8d2ca17a180786b69acc140d282b71a49"
   }
  }
 },
 "nbformat": 4,
 "nbformat_minor": 2
}
